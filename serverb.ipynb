{
 "cells": [
  {
   "cell_type": "code",
   "execution_count": 1,
   "metadata": {},
   "outputs": [],
   "source": [
    "#serverb=clienta\n",
    "import socket\n",
    "import cv2\n",
    "import pickle\n",
    "import struct\n",
    "import threading\n",
    "import time\n",
    "\n"
   ]
  },
  {
   "cell_type": "code",
   "execution_count": 2,
   "metadata": {},
   "outputs": [],
   "source": [
    "def send():\n",
    "    s=socket.socket()\n",
    "    s.setsockopt(socket.SOL_SOCKET,socket.SO_REUSEADDR,1)\n",
    "    port=2023\n",
    "    ip=\"\"\n",
    "    s.bind((ip,port))\n",
    "    s.listen()\n",
    "    #time.sleep(2)\n",
    "    while True:\n",
    "        time.sleep(2)\n",
    "        c,add=s.accept()\n",
    "        print(add)\n",
    "        if c:\n",
    "            vid=cv2.VideoCapture(0)\n",
    "            while(vid.isOpened()):\n",
    "                ret,img=vid.read()\n",
    "                a=pickle.dumps(img)\n",
    "                m=struct.pack(\"Q\",len(a))+a\n",
    "                c.sendall(m)\n",
    "                #cv2.imshow(\"vid1\",img)\n",
    "                key=cv2.waitKey(1) & 0xFF\n",
    "                if key == ord('q'):\n",
    "                    c.close()"
   ]
  },
  {
   "cell_type": "code",
   "execution_count": null,
   "metadata": {},
   "outputs": [
    {
     "name": "stdout",
     "output_type": "stream",
     "text": [
      "('192.168.0.104', 55194)\n"
     ]
    }
   ],
   "source": [
    "send()"
   ]
  },
  {
   "cell_type": "code",
   "execution_count": null,
   "metadata": {},
   "outputs": [],
   "source": []
  }
 ],
 "metadata": {
  "kernelspec": {
   "display_name": "Python 3",
   "language": "python",
   "name": "python3"
  },
  "language_info": {
   "codemirror_mode": {
    "name": "ipython",
    "version": 3
   },
   "file_extension": ".py",
   "mimetype": "text/x-python",
   "name": "python",
   "nbconvert_exporter": "python",
   "pygments_lexer": "ipython3",
   "version": "3.8.3"
  }
 },
 "nbformat": 4,
 "nbformat_minor": 5
}

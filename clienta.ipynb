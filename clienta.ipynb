{
 "cells": [
  {
   "cell_type": "code",
   "execution_count": 1,
   "metadata": {},
   "outputs": [],
   "source": [
    "#clienta=serverb\n",
    "import socket\n",
    "import cv2\n",
    "import pickle\n",
    "import struct\n",
    "import threading\n",
    "import time"
   ]
  },
  {
   "cell_type": "code",
   "execution_count": 2,
   "metadata": {},
   "outputs": [],
   "source": [
    "def rev():\n",
    "    s=socket.socket()\n",
    "    siip=\"192.168.0.104\"\n",
    "    sport=2023\n",
    "    s.connect((siip,sport))\n",
    "    s.setsockopt(socket.SOL_SOCKET,socket.SO_REUSEADDR,1)\n",
    "    data=b\"\"\n",
    "    payload=struct.calcsize(\"Q\")\n",
    "   # time.sleep(2)\n",
    "    while True:\n",
    "        #time.sleep(2)\n",
    "        while len(data)<payload:\n",
    "            packet=s.recv(4*1024)\n",
    "            if not packet: break\n",
    "            data+=packet\n",
    "        packed_msg = data[:payload]\n",
    "        data = data[payload:]\n",
    "        msg_size= struct.unpack(\"Q\",packed_msg)[0]\n",
    "    \n",
    "        while len(data)<msg_size:\n",
    "            data +=s.recv(4*1024)\n",
    "        frame_data=data[:msg_size]\n",
    "        data = data[msg_size:]\n",
    "        frame=pickle.loads(frame_data)\n",
    "        cv2.imshow(\"vid1\",frame)\n",
    "        ##time.sleep(0.5)\n",
    "        key = cv2.waitKey(1)& 0xFF\n",
    "        if key ==ord('q'):\n",
    "            break\n",
    "    client_socket.close()\n",
    "    \n"
   ]
  },
  {
   "cell_type": "code",
   "execution_count": null,
   "metadata": {},
   "outputs": [],
   "source": [
    "rev()"
   ]
  },
  {
   "cell_type": "code",
   "execution_count": null,
   "metadata": {},
   "outputs": [],
   "source": []
  }
 ],
 "metadata": {
  "kernelspec": {
   "display_name": "Python 3",
   "language": "python",
   "name": "python3"
  },
  "language_info": {
   "codemirror_mode": {
    "name": "ipython",
    "version": 3
   },
   "file_extension": ".py",
   "mimetype": "text/x-python",
   "name": "python",
   "nbconvert_exporter": "python",
   "pygments_lexer": "ipython3",
   "version": "3.8.3"
  }
 },
 "nbformat": 4,
 "nbformat_minor": 5
}
